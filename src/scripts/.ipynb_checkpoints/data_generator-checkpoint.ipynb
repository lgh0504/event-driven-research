{
 "cells": [
  {
   "cell_type": "code",
   "execution_count": 1,
   "metadata": {},
   "outputs": [],
   "source": [
    "# import necessary lib\n",
    "from sys import path as pythonpath\n",
    "pythonpath.append('..')\n",
    "from os import path\n",
    "from data_methods import SampleGenerator\n",
    "from data_methods import TextEmbedding"
   ]
  },
  {
   "cell_type": "code",
   "execution_count": 2,
   "metadata": {},
   "outputs": [],
   "source": [
    "# set up variables and paths\n",
    "start_date = '2018-05-29'\n",
    "start_index = 0\n",
    "end_date = '2018-07-02'\n",
    "end_index = 390\n",
    "twitter_db_path =\"../../resources/big_twitter_database.db\"\n",
    "stock_db_path =  \"../../resources/new_nasdaq100_database.db\"\n",
    "lookup_path =  \"../../resources/lookup_table.txt\"\n",
    "model_path = \"../../resources/GoogleNews-vectors-negative300.bin\""
   ]
  },
  {
   "cell_type": "code",
   "execution_count": 3,
   "metadata": {},
   "outputs": [
    {
     "data": {
      "text/plain": [
       "'../../resources/lookup_table.txt'"
      ]
     },
     "execution_count": 3,
     "metadata": {},
     "output_type": "execute_result"
    }
   ],
   "source": [
    "# create embedding\n",
    "text_embedder = TextEmbedding(model_path)"
   ]
  },
  {
   "cell_type": "code",
   "execution_count": 4,
   "metadata": {},
   "outputs": [],
   "source": [
    "# create sample generator\n",
    "sample_generator = SampleGenerator(twitter_db_path, stock_db_path, lookup_path,\n",
    "                                       start_date, start_index, end_date, end_index)"
   ]
  },
  {
   "cell_type": "code",
   "execution_count": 57,
   "metadata": {},
   "outputs": [],
   "source": [
    "# create embedding dict\n",
    "sel = ['goog', 'msft', 'amzn', 'intc', 'aapl', 'nflx', 'ebay', 'fb']\n",
    "Tvec_dict = {}\n",
    "for symbol in sel:\n",
    "    Tvec_dict[symbol] = map(text_embedder.texts_embedding, sample_generator.filter_by_keywords(symbol))"
   ]
  },
  {
   "cell_type": "code",
   "execution_count": 60,
   "metadata": {},
   "outputs": [],
   "source": [
    "# create text traing sample\n",
    "time_interval = 30\n",
    "lenght = len(Tvec_dict['aapl'])\n",
    "text_sample_dict = {}\n",
    "for symbol in sel:\n",
    "        serial_text_list = []\n",
    "        for i in range(0, lenght - time_interval + 1):\n",
    "            serial_text_list.append(Tvec_dict[symbol][i:i + time_interval])\n",
    "        text_sample_dict[symbol] = serial_text_list"
   ]
  },
  {
   "cell_type": "code",
   "execution_count": 6,
   "metadata": {},
   "outputs": [
    {
     "name": "stdout",
     "output_type": "stream",
     "text": [
      "Initializing, may take several minutes...\n",
      "Initialization Done! Using 95 seconds\n"
     ]
    }
   ],
   "source": [
    "#create stock training sample\n",
    "goog = sample_generator.get_serial_stock_sample(['goog'], time_interval)\n",
    "other = sample_generator.get_serial_stock_sample(['msft', 'amzn', 'intc', 'aapl', 'nflx', 'ebay', 'fb'], time_interval)"
   ]
  },
  {
   "cell_type": "code",
   "execution_count": 70,
   "metadata": {},
   "outputs": [],
   "source": [
    "import pickle\n",
    "pickle.dump(text_sample_dict, open('text_sample_dict.pl','wb'))"
   ]
  },
  {
   "cell_type": "code",
   "execution_count": 34,
   "metadata": {},
   "outputs": [],
   "source": [
    "pickle.dump(goog, open('goog.pl','wb'))\n",
    "pickle.dump(other, open('other.pl','wb'))"
   ]
  },
  {
   "cell_type": "code",
   "execution_count": 42,
   "metadata": {},
   "outputs": [],
   "source": []
  },
  {
   "cell_type": "code",
   "execution_count": 43,
   "metadata": {},
   "outputs": [],
   "source": [
    "a = Tvec_dict['aapl']"
   ]
  },
  {
   "cell_type": "code",
   "execution_count": 55,
   "metadata": {},
   "outputs": [
    {
     "data": {
      "text/plain": [
       "9746"
      ]
     },
     "execution_count": 55,
     "metadata": {},
     "output_type": "execute_result"
    }
   ],
   "source": [
    "import numpy as np\n",
    "a = np.asarray(a)\n",
    "len(a)"
   ]
  },
  {
   "cell_type": "code",
   "execution_count": null,
   "metadata": {},
   "outputs": [],
   "source": []
  }
 ],
 "metadata": {
  "kernelspec": {
   "display_name": "research",
   "language": "python",
   "name": "research"
  },
  "language_info": {
   "codemirror_mode": {
    "name": "ipython",
    "version": 2
   },
   "file_extension": ".py",
   "mimetype": "text/x-python",
   "name": "python",
   "nbconvert_exporter": "python",
   "pygments_lexer": "ipython2",
   "version": "2.7.10"
  }
 },
 "nbformat": 4,
 "nbformat_minor": 2
}
